{
 "cells": [
  {
   "cell_type": "code",
   "execution_count": 1,
   "metadata": {},
   "outputs": [],
   "source": [
    "import pandas as pd\n",
    "import numpy as np\n",
    "import matplotlib.pyplot as plt\n",
    "import seaborn as sn"
   ]
  },
  {
   "cell_type": "code",
   "execution_count": 22,
   "metadata": {},
   "outputs": [
    {
     "data": {
      "text/html": [
       "<div>\n",
       "<style scoped>\n",
       "    .dataframe tbody tr th:only-of-type {\n",
       "        vertical-align: middle;\n",
       "    }\n",
       "\n",
       "    .dataframe tbody tr th {\n",
       "        vertical-align: top;\n",
       "    }\n",
       "\n",
       "    .dataframe thead th {\n",
       "        text-align: right;\n",
       "    }\n",
       "</style>\n",
       "<table border=\"1\" class=\"dataframe\">\n",
       "  <thead>\n",
       "    <tr style=\"text-align: right;\">\n",
       "      <th></th>\n",
       "      <th>time</th>\n",
       "      <th>length</th>\n",
       "      <th>costumer_satisfaction</th>\n",
       "      <th>waiting</th>\n",
       "      <th>agent</th>\n",
       "    </tr>\n",
       "  </thead>\n",
       "  <tbody>\n",
       "    <tr>\n",
       "      <th>count</th>\n",
       "      <td>124635.000000</td>\n",
       "      <td>124635.000000</td>\n",
       "      <td>87931.000000</td>\n",
       "      <td>124635.000000</td>\n",
       "      <td>124635.000000</td>\n",
       "    </tr>\n",
       "    <tr>\n",
       "      <th>mean</th>\n",
       "      <td>15.299121</td>\n",
       "      <td>627.638922</td>\n",
       "      <td>8.555174</td>\n",
       "      <td>32.050572</td>\n",
       "      <td>48.017387</td>\n",
       "    </tr>\n",
       "    <tr>\n",
       "      <th>std</th>\n",
       "      <td>4.834104</td>\n",
       "      <td>384.865377</td>\n",
       "      <td>1.591077</td>\n",
       "      <td>429.067688</td>\n",
       "      <td>27.089497</td>\n",
       "    </tr>\n",
       "    <tr>\n",
       "      <th>min</th>\n",
       "      <td>1.000000</td>\n",
       "      <td>5.000000</td>\n",
       "      <td>1.000000</td>\n",
       "      <td>0.000000</td>\n",
       "      <td>1.000000</td>\n",
       "    </tr>\n",
       "    <tr>\n",
       "      <th>25%</th>\n",
       "      <td>11.000000</td>\n",
       "      <td>477.000000</td>\n",
       "      <td>8.000000</td>\n",
       "      <td>0.000000</td>\n",
       "      <td>26.000000</td>\n",
       "    </tr>\n",
       "    <tr>\n",
       "      <th>50%</th>\n",
       "      <td>17.000000</td>\n",
       "      <td>584.000000</td>\n",
       "      <td>9.000000</td>\n",
       "      <td>14.000000</td>\n",
       "      <td>46.000000</td>\n",
       "    </tr>\n",
       "    <tr>\n",
       "      <th>75%</th>\n",
       "      <td>19.000000</td>\n",
       "      <td>763.000000</td>\n",
       "      <td>10.000000</td>\n",
       "      <td>49.000000</td>\n",
       "      <td>71.000000</td>\n",
       "    </tr>\n",
       "    <tr>\n",
       "      <th>max</th>\n",
       "      <td>24.000000</td>\n",
       "      <td>79900.000000</td>\n",
       "      <td>10.000000</td>\n",
       "      <td>106666.000000</td>\n",
       "      <td>100.000000</td>\n",
       "    </tr>\n",
       "  </tbody>\n",
       "</table>\n",
       "</div>"
      ],
      "text/plain": [
       "                time         length  costumer_satisfaction        waiting  \\\n",
       "count  124635.000000  124635.000000           87931.000000  124635.000000   \n",
       "mean       15.299121     627.638922               8.555174      32.050572   \n",
       "std         4.834104     384.865377               1.591077     429.067688   \n",
       "min         1.000000       5.000000               1.000000       0.000000   \n",
       "25%        11.000000     477.000000               8.000000       0.000000   \n",
       "50%        17.000000     584.000000               9.000000      14.000000   \n",
       "75%        19.000000     763.000000              10.000000      49.000000   \n",
       "max        24.000000   79900.000000              10.000000  106666.000000   \n",
       "\n",
       "               agent  \n",
       "count  124635.000000  \n",
       "mean       48.017387  \n",
       "std        27.089497  \n",
       "min         1.000000  \n",
       "25%        26.000000  \n",
       "50%        46.000000  \n",
       "75%        71.000000  \n",
       "max       100.000000  "
      ]
     },
     "execution_count": 22,
     "metadata": {},
     "output_type": "execute_result"
    }
   ],
   "source": [
    "call_center = pd.read_csv('callcentre_37.csv')\n",
    "\n",
    "call_center.head(10)\n",
    "call_center.shape\n",
    "\n",
    "#statistics of the dataset\n",
    "call_center.describe()"
   ]
  },
  {
   "cell_type": "code",
   "execution_count": 7,
   "metadata": {},
   "outputs": [
    {
     "data": {
      "text/plain": [
       "time                          0\n",
       "length                        0\n",
       "forwarded                105238\n",
       "costumer_satisfaction     36704\n",
       "waiting                       0\n",
       "problem                       0\n",
       "agent                         0\n",
       "dtype: int64"
      ]
     },
     "execution_count": 7,
     "metadata": {},
     "output_type": "execute_result"
    }
   ],
   "source": [
    "call_center.isna().sum()"
   ]
  },
  {
   "cell_type": "code",
   "execution_count": 11,
   "metadata": {},
   "outputs": [
    {
     "data": {
      "text/plain": [
       "(102, 6)"
      ]
     },
     "execution_count": 11,
     "metadata": {},
     "output_type": "execute_result"
    }
   ],
   "source": [
    "hrm = pd.read_csv('HRM_37.csv')\n",
    "\n",
    "hrm.head(10)\n",
    "hrm.shape"
   ]
  },
  {
   "cell_type": "code",
   "execution_count": 23,
   "metadata": {},
   "outputs": [
    {
     "data": {
      "text/html": [
       "<div>\n",
       "<style scoped>\n",
       "    .dataframe tbody tr th:only-of-type {\n",
       "        vertical-align: middle;\n",
       "    }\n",
       "\n",
       "    .dataframe tbody tr th {\n",
       "        vertical-align: top;\n",
       "    }\n",
       "\n",
       "    .dataframe thead th {\n",
       "        text-align: right;\n",
       "    }\n",
       "</style>\n",
       "<table border=\"1\" class=\"dataframe\">\n",
       "  <thead>\n",
       "    <tr style=\"text-align: right;\">\n",
       "      <th></th>\n",
       "      <th>tenure</th>\n",
       "      <th>age</th>\n",
       "      <th>agent</th>\n",
       "    </tr>\n",
       "  </thead>\n",
       "  <tbody>\n",
       "    <tr>\n",
       "      <th>count</th>\n",
       "      <td>102.000000</td>\n",
       "      <td>102.000000</td>\n",
       "      <td>102.000000</td>\n",
       "    </tr>\n",
       "    <tr>\n",
       "      <th>mean</th>\n",
       "      <td>120.990196</td>\n",
       "      <td>35.215686</td>\n",
       "      <td>51.500000</td>\n",
       "    </tr>\n",
       "    <tr>\n",
       "      <th>std</th>\n",
       "      <td>78.268071</td>\n",
       "      <td>6.291008</td>\n",
       "      <td>29.588849</td>\n",
       "    </tr>\n",
       "    <tr>\n",
       "      <th>min</th>\n",
       "      <td>0.000000</td>\n",
       "      <td>21.000000</td>\n",
       "      <td>1.000000</td>\n",
       "    </tr>\n",
       "    <tr>\n",
       "      <th>25%</th>\n",
       "      <td>57.000000</td>\n",
       "      <td>31.000000</td>\n",
       "      <td>26.250000</td>\n",
       "    </tr>\n",
       "    <tr>\n",
       "      <th>50%</th>\n",
       "      <td>107.500000</td>\n",
       "      <td>35.000000</td>\n",
       "      <td>51.500000</td>\n",
       "    </tr>\n",
       "    <tr>\n",
       "      <th>75%</th>\n",
       "      <td>171.000000</td>\n",
       "      <td>39.000000</td>\n",
       "      <td>76.750000</td>\n",
       "    </tr>\n",
       "    <tr>\n",
       "      <th>max</th>\n",
       "      <td>366.000000</td>\n",
       "      <td>52.000000</td>\n",
       "      <td>102.000000</td>\n",
       "    </tr>\n",
       "  </tbody>\n",
       "</table>\n",
       "</div>"
      ],
      "text/plain": [
       "           tenure         age       agent\n",
       "count  102.000000  102.000000  102.000000\n",
       "mean   120.990196   35.215686   51.500000\n",
       "std     78.268071    6.291008   29.588849\n",
       "min      0.000000   21.000000    1.000000\n",
       "25%     57.000000   31.000000   26.250000\n",
       "50%    107.500000   35.000000   51.500000\n",
       "75%    171.000000   39.000000   76.750000\n",
       "max    366.000000   52.000000  102.000000"
      ]
     },
     "execution_count": 23,
     "metadata": {},
     "output_type": "execute_result"
    }
   ],
   "source": [
    "#statistics of the dataset\n",
    "hrm.describe()"
   ]
  },
  {
   "cell_type": "markdown",
   "metadata": {},
   "source": [
    "## Let's start by analyzing the dataset that carries personal information about employees\n"
   ]
  },
  {
   "cell_type": "code",
   "execution_count": 15,
   "metadata": {},
   "outputs": [
    {
     "data": {
      "text/plain": [
       "female    51\n",
       "male      50\n",
       "femaLe     1\n",
       "Name: gender, dtype: int64"
      ]
     },
     "execution_count": 15,
     "metadata": {},
     "output_type": "execute_result"
    }
   ],
   "source": [
    "#Let's find out the number of males and females in the dataset\n",
    "gender_count = hrm['gender'].value_counts()\n",
    "gender_count"
   ]
  },
  {
   "cell_type": "code",
   "execution_count": 19,
   "metadata": {},
   "outputs": [],
   "source": [
    "#So we notice that one female was classified as another class (femaLe) because of the capital 'L'\n",
    "#We then turn everything to lower case letters\n",
    "hrm['gender'] = hrm['gender'].apply(lambda x: x.lower())\n",
    "gender_count = hrm['gender'].value_counts()"
   ]
  },
  {
   "cell_type": "code",
   "execution_count": 21,
   "metadata": {},
   "outputs": [
    {
     "data": {
      "image/png": "[encoded data removed]",
      "text/plain": [
       "<Figure size 864x288 with 1 Axes>"
      ]
     },
     "metadata": {
      "needs_background": "light"
     },
     "output_type": "display_data"
    }
   ],
   "source": [
    "# So we have rightly put the female class in the rightful position\n",
    "# Now let's visualize the data\n",
    "\n",
    "plt.figure(figsize=(12,4))\n",
    "sn.barplot(gender_count.index, gender_count.values, alpha=0.8)\n",
    "plt.ylabel('Number of Occurrences', fontsize=8)\n",
    "plt.xlabel('Gender', fontsize=12)\n",
    "plt.xticks(rotation=90)\n",
    "plt.show();"
   ]
  },
  {
   "cell_type": "code",
   "execution_count": 29,
   "metadata": {},
   "outputs": [
    {
     "data": {
      "text/plain": [
       "British    39\n",
       "Asian      30\n",
       "Black      24\n",
       "Other       8\n",
       "5           1\n",
       "Name: ethnicity, dtype: int64"
      ]
     },
     "execution_count": 29,
     "metadata": {},
     "output_type": "execute_result"
    }
   ],
   "source": [
    "# Let's also find out the ethnic distributions in the dataset\n",
    "hrm['ethnicity'].isna().sum()\n",
    "\n",
    "ethnic_count = hrm['ethnicity'].value_counts()\n",
    "ethnic_count"
   ]
  },
  {
   "cell_type": "code",
   "execution_count": 27,
   "metadata": {},
   "outputs": [
    {
     "data": {
      "image/png": "[encoded data removed]",
      "text/plain": [
       "<Figure size 864x288 with 1 Axes>"
      ]
     },
     "metadata": {
      "needs_background": "light"
     },
     "output_type": "display_data"
    }
   ],
   "source": [
    "plt.figure(figsize=(12,4))\n",
    "sn.barplot(ethnic_count.index, ethnic_count.values, alpha=0.8)\n",
    "plt.ylabel('Number of Occurrences', fontsize=8)\n",
    "plt.xlabel('Ethnic Groups', fontsize=12)\n",
    "plt.xticks(rotation=90)\n",
    "plt.show();"
   ]
  },
  {
   "cell_type": "code",
   "execution_count": 35,
   "metadata": {},
   "outputs": [],
   "source": [
    "# We will replace the class 5 with NA indicating Not Available or a null class\n",
    "hrm['ethnicity'].replace({\"5\": \"NA\"}, inplace=True)\n",
    "ethnic_count  = hrm['ethnicity'].value_counts()"
   ]
  },
  {
   "cell_type": "code",
   "execution_count": 36,
   "metadata": {},
   "outputs": [
    {
     "data": {
      "image/png": "[encoded data removed]",
      "text/plain": [
       "<Figure size 864x288 with 1 Axes>"
      ]
     },
     "metadata": {
      "needs_background": "light"
     },
     "output_type": "display_data"
    }
   ],
   "source": [
    "#So let's visualize again\n",
    "plt.figure(figsize=(12,4))\n",
    "sn.barplot(ethnic_count.index, ethnic_count.values, alpha=0.8)\n",
    "plt.ylabel('Number of Occurrences', fontsize=8)\n",
    "plt.xlabel('Ethnic Groups', fontsize=12)\n",
    "plt.xticks(rotation=90)\n",
    "plt.show();"
   ]
  },
  {
   "cell_type": "code",
   "execution_count": 41,
   "metadata": {},
   "outputs": [
    {
     "data": {
      "image/png": "[encoded data removed]",
      "text/plain": [
       "<Figure size 864x288 with 1 Axes>"
      ]
     },
     "metadata": {
      "needs_background": "light"
     },
     "output_type": "display_data"
    }
   ],
   "source": [
    "#Let's analyze the age column -- \n",
    "age_count = hrm['age'].value_counts()\n",
    "plt.figure(figsize=(12,4))\n",
    "sn.barplot(age_count.index, age_count.values, alpha=0.8)\n",
    "plt.ylabel('Number of Occurrences', fontsize=8)\n",
    "plt.xlabel('Age Groups', fontsize=12)\n",
    "plt.xticks(rotation=90)\n",
    "plt.show();"
   ]
  },
  {
   "cell_type": "code",
   "execution_count": 42,
   "metadata": {},
   "outputs": [],
   "source": [
    "#From this we see that the age group with the highest occurences are between 36 and 39\n"
   ]
  },
  {
   "cell_type": "code",
   "execution_count": 43,
   "metadata": {},
   "outputs": [
    {
     "data": {
      "image/png": "[encoded data removed]",
      "text/plain": [
       "<Figure size 864x288 with 1 Axes>"
      ]
     },
     "metadata": {
      "needs_background": "light"
     },
     "output_type": "display_data"
    }
   ],
   "source": [
    "#We can also analyze the professional qualifications of the employess in the dataset\n",
    "qualification_count = hrm['qualification'].value_counts()\n",
    "plt.figure(figsize=(12,4))\n",
    "sn.barplot(qualification_count.index, qualification_count.values, alpha=0.8)\n",
    "plt.ylabel('Number of Occurrences', fontsize=8)\n",
    "plt.xlabel('Qualifications', fontsize=12)\n",
    "plt.xticks(rotation=90)\n",
    "plt.show();"
   ]
  },
  {
   "cell_type": "code",
   "execution_count": 44,
   "metadata": {},
   "outputs": [
    {
     "data": {
      "image/png": "[encoded data removed]",
      "text/plain": [
       "<Figure size 864x288 with 1 Axes>"
      ]
     },
     "metadata": {
      "needs_background": "light"
     },
     "output_type": "display_data"
    }
   ],
   "source": [
    "# We will replace the class 20 with NA indicating Not Available or a null class\n",
    "hrm['qualification'].replace({\"20\": \"NA\"}, inplace=True)\n",
    "qualification_count  = hrm['qualification'].value_counts()\n",
    "#Let's revisualize the dataset\n",
    "plt.figure(figsize=(12,4))\n",
    "sn.barplot(qualification_count.index, qualification_count.values, alpha=0.8)\n",
    "plt.ylabel('Number of Occurrences', fontsize=8)\n",
    "plt.xlabel('Qualifications', fontsize=12)\n",
    "plt.xticks(rotation=90)\n",
    "plt.show();"
   ]
  },
  {
   "cell_type": "code",
   "execution_count": 46,
   "metadata": {},
   "outputs": [],
   "source": [
    "#So from this we can see that most of the employees are either have some form of college experience or university experience\n",
    "#We will try and see in the next notebook if there is acutally a relationship between these features here which include sex, ethnic group, age, \n",
    "#qualifications and the employee's performance"
   ]
  },
  {
   "cell_type": "code",
   "execution_count": null,
   "metadata": {},
   "outputs": [],
   "source": []
  }
 ],
 "metadata": {
  "kernelspec": {
   "display_name": "Python 3",
   "language": "python",
   "name": "python3"
  },
  "language_info": {
   "codemirror_mode": {
    "name": "ipython",
    "version": 3
   },
   "file_extension": ".py",
   "mimetype": "text/x-python",
   "name": "python",
   "nbconvert_exporter": "python",
   "pygments_lexer": "ipython3",
   "version": "3.7.6"
  }
 },
 "nbformat": 4,
 "nbformat_minor": 4
}
